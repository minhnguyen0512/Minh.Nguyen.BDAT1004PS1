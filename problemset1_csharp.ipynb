{
 "cells": [
  {
   "cell_type": "markdown",
   "metadata": {
    "dotnet_interactive": {
     "language": "csharp"
    },
    "polyglot_notebook": {
     "kernelName": "csharp"
    },
    "vscode": {
     "languageId": "polyglot-notebook"
    }
   },
   "source": [
    "## Question 1 C#"
   ]
  },
  {
   "cell_type": "markdown",
   "metadata": {},
   "source": [
    "What data type is each of the following?"
   ]
  },
  {
   "attachments": {
    "image.png": {
     "image/png": "[encoded data removed]"
    }
   },
   "cell_type": "markdown",
   "metadata": {},
   "source": [
    "![image.png](attachment:image.png)"
   ]
  },
  {
   "cell_type": "markdown",
   "metadata": {},
   "source": [
    "- 5: integer\n",
    "- 5.0: double\n",
    "- 5 > 1: boolean\n",
    "- '5': string\n",
    "- 5 * 2: integer\n",
    "- '5' * 2 : error\n",
    "- '5' + '2': string\n",
    "- 5 / 2: double or int\n",
    "- 5 % 2: int\n",
    "- {5, 2, 1}: numeric array\n",
    "- 5 == 3: false\n",
    "- Pi (the number): double"
   ]
  },
  {
   "cell_type": "markdown",
   "metadata": {
    "dotnet_interactive": {
     "language": "csharp"
    },
    "polyglot_notebook": {
     "kernelName": "csharp"
    }
   },
   "source": [
    "## Question 2 C#"
   ]
  },
  {
   "cell_type": "markdown",
   "metadata": {},
   "source": [
    "Write (and evaluate) C# expressions that answer these questions:\n",
    "\n",
    "a. How many letters are there in 'Supercalifragilisticexpialidocious'?"
   ]
  },
  {
   "cell_type": "code",
   "execution_count": 2,
   "metadata": {
    "dotnet_interactive": {
     "language": "csharp"
    },
    "polyglot_notebook": {
     "kernelName": "csharp"
    },
    "vscode": {
     "languageId": "polyglot-notebook"
    }
   },
   "outputs": [
    {
     "data": {
      "text/html": [
       "<div class=\"dni-plaintext\"><pre>34</pre></div><style>\r\n",
       ".dni-code-hint {\r\n",
       "    font-style: italic;\r\n",
       "    overflow: hidden;\r\n",
       "    white-space: nowrap;\r\n",
       "}\r\n",
       ".dni-treeview {\r\n",
       "    white-space: nowrap;\r\n",
       "}\r\n",
       ".dni-treeview td {\r\n",
       "    vertical-align: top;\r\n",
       "    text-align: start;\r\n",
       "}\r\n",
       "details.dni-treeview {\r\n",
       "    padding-left: 1em;\r\n",
       "}\r\n",
       "table td {\r\n",
       "    text-align: start;\r\n",
       "}\r\n",
       "table tr { \r\n",
       "    vertical-align: top; \r\n",
       "    margin: 0em 0px;\r\n",
       "}\r\n",
       "table tr td pre \r\n",
       "{ \r\n",
       "    vertical-align: top !important; \r\n",
       "    margin: 0em 0px !important;\r\n",
       "} \r\n",
       "table th {\r\n",
       "    text-align: start;\r\n",
       "}\r\n",
       "</style>"
      ]
     },
     "metadata": {},
     "output_type": "display_data"
    }
   ],
   "source": [
    "string letter = \"Supercalifragilisticexpialidocious\";\n",
    "letter.Length // There are 34 letters"
   ]
  },
  {
   "cell_type": "markdown",
   "metadata": {},
   "source": [
    "b. Does \"Supercalifragilisticexpialidocious\" contain 'ice' as a substring?"
   ]
  },
  {
   "cell_type": "code",
   "execution_count": 3,
   "metadata": {
    "dotnet_interactive": {
     "language": "csharp"
    },
    "polyglot_notebook": {
     "kernelName": "csharp"
    },
    "vscode": {
     "languageId": "polyglot-notebook"
    }
   },
   "outputs": [
    {
     "data": {
      "text/html": [
       "<div class=\"dni-plaintext\"><pre>True</pre></div><style>\r\n",
       ".dni-code-hint {\r\n",
       "    font-style: italic;\r\n",
       "    overflow: hidden;\r\n",
       "    white-space: nowrap;\r\n",
       "}\r\n",
       ".dni-treeview {\r\n",
       "    white-space: nowrap;\r\n",
       "}\r\n",
       ".dni-treeview td {\r\n",
       "    vertical-align: top;\r\n",
       "    text-align: start;\r\n",
       "}\r\n",
       "details.dni-treeview {\r\n",
       "    padding-left: 1em;\r\n",
       "}\r\n",
       "table td {\r\n",
       "    text-align: start;\r\n",
       "}\r\n",
       "table tr { \r\n",
       "    vertical-align: top; \r\n",
       "    margin: 0em 0px;\r\n",
       "}\r\n",
       "table tr td pre \r\n",
       "{ \r\n",
       "    vertical-align: top !important; \r\n",
       "    margin: 0em 0px !important;\r\n",
       "} \r\n",
       "table th {\r\n",
       "    text-align: start;\r\n",
       "}\r\n",
       "</style>"
      ]
     },
     "metadata": {},
     "output_type": "display_data"
    }
   ],
   "source": [
    "string substring = \"ice\";\n",
    "letter.ToLower().Contains(substring) // Yes, ice is a substring of \"Supercalifragilisticexpialidocious\""
   ]
  },
  {
   "cell_type": "markdown",
   "metadata": {},
   "source": [
    "\n",
    "c. Which of the following words is the longest: Supercalifragilisticexpialidocious, Honorificabilitudinitatibus, or Bababadalgharaghtakamminarronnkonn?\n"
   ]
  },
  {
   "cell_type": "code",
   "execution_count": 3,
   "metadata": {
    "dotnet_interactive": {
     "language": "csharp"
    },
    "polyglot_notebook": {
     "kernelName": "csharp"
    },
    "vscode": {
     "languageId": "polyglot-notebook"
    }
   },
   "outputs": [
    {
     "name": "stdout",
     "output_type": "stream",
     "text": [
      "Supercalifragilisticexpialidocious is the longest word\r\n"
     ]
    }
   ],
   "source": [
    "string word1 = \"Supercalifragilisticexpialidocious\";\n",
    "string word2 = \"Honorificabilitudinitatibus\";\n",
    "string word3 = \"Bababadalgharaghtakamminarronnkonn\";\n",
    "\n",
    "int maxLength = Math.Max(word1.Length, Math.Max(word2.Length, word3.Length));\n",
    "\n",
    "if (word1.Length == maxLength) {\n",
    "    Console.WriteLine(\"Supercalifragilisticexpialidocious is the longest word\");\n",
    "} else if (word2.Length == maxLength) {\n",
    "    Console.WriteLine(\"Honorificabilitudinitatibus is the longest word\");\n",
    "} else {\n",
    "    Console.WriteLine(\"Bababadalgharaghtakamminarronnkonn is the longest word\");\n",
    "}"
   ]
  },
  {
   "cell_type": "markdown",
   "metadata": {},
   "source": [
    "\n",
    "d. Which composer comes first in the dictionary: 'Berlioz', 'Borodin', 'Brian',  'Bartok', 'Bellini', 'Buxtehude', 'Bernstein'. Which one comes last?"
   ]
  },
  {
   "cell_type": "code",
   "execution_count": 4,
   "metadata": {
    "dotnet_interactive": {
     "language": "csharp"
    },
    "polyglot_notebook": {
     "kernelName": "csharp"
    },
    "vscode": {
     "languageId": "polyglot-notebook"
    }
   },
   "outputs": [],
   "source": [
    "string[] unsortedStrings = { \"Berlioz\", \"Borodin\", \"Brian\", \"Bartok\", \"Bellini\", \"Buxtehude\", \"Bernstein\" };\n",
    "string[] sortedStrings = unsortedStrings.OrderBy(s => s).ToArray();"
   ]
  },
  {
   "cell_type": "code",
   "execution_count": 5,
   "metadata": {
    "dotnet_interactive": {
     "language": "csharp"
    },
    "polyglot_notebook": {
     "kernelName": "csharp"
    },
    "vscode": {
     "languageId": "polyglot-notebook"
    }
   },
   "outputs": [
    {
     "name": "stdout",
     "output_type": "stream",
     "text": [
      "First composer: Bartok\n",
      "Last composer: Buxtehude"
     ]
    }
   ],
   "source": [
    "var Last = sortedStrings.Last();\n",
    "var First = sortedStrings.First();\n",
    "Console.WriteLine($\"First composer: {First}\");\n",
    "Console.Write($\"Last composer: {Last}\");"
   ]
  },
  {
   "cell_type": "markdown",
   "metadata": {},
   "source": [
    "## Question 3 C#\n",
    "Implement function triangleArea(a,b,c) that takes as input the lengths of the 3 \n",
    "sides of a triangle and returns the area of the triangle. \n",
    "\n",
    "By Heron's formula, the area \n",
    "of a triangle with side lengths a, b, and c is s(s − a)(s −b)(s −c), where\n",
    "s = (a + b + c)/2"
   ]
  },
  {
   "cell_type": "code",
   "execution_count": 6,
   "metadata": {
    "dotnet_interactive": {
     "language": "csharp"
    },
    "polyglot_notebook": {
     "kernelName": "csharp"
    },
    "vscode": {
     "languageId": "polyglot-notebook"
    }
   },
   "outputs": [
    {
     "name": "stdout",
     "output_type": "stream",
     "text": [
      "1.7320508075688772\r\n"
     ]
    }
   ],
   "source": [
    "public static double triangleArea(double a, double b, double c) {\n",
    "    double s = (a + b + c) / 2;\n",
    "    double area = Math.Sqrt(s * (s - a) * (s - b) * (s - c));\n",
    "    \n",
    "    return area;\n",
    "}\n",
    "Console.WriteLine(triangleArea(2, 2, 2)) // output: 1.7320508075688772 "
   ]
  },
  {
   "cell_type": "markdown",
   "metadata": {},
   "source": [
    "## Question 4 C#\n",
    "- Write a program in C# Sharp to separate odd and even integers in separate arrays. \n",
    "- Go to the editor\n",
    "- Test Data :\n",
    "- Input the number of elements to be stored in the array :5 \n",
    "- Input 5 elements in the array :\n",
    "    - element - 0 : 25\n",
    "    - element - 1 : 47\n",
    "    - element - 2 : 42\n",
    "    - element - 3 : 56\n",
    "    - element - 4 : 32 \n",
    "- The Even elements are: 42 56 32\n",
    "- The Odd elements are: 25 47\n"
   ]
  },
  {
   "cell_type": "code",
   "execution_count": 8,
   "metadata": {
    "dotnet_interactive": {
     "language": "csharp"
    },
    "polyglot_notebook": {
     "kernelName": "csharp"
    },
    "vscode": {
     "languageId": "polyglot-notebook"
    }
   },
   "outputs": [
    {
     "name": "stdout",
     "output_type": "stream",
     "text": [
      "Input the number of elements to be stored in the array: 5\n",
      "Even Numbers:\n",
      "42 56 32 \n",
      "\n",
      "Odd Numbers:\n",
      "25 47 "
     ]
    }
   ],
   "source": [
    "public void Separate_Odd_Even()\n",
    "{\n",
    "    Console.WriteLine(\"Input the number of elements to be stored in the array: 5\");\n",
    "\n",
    "    int[] elements = new int[5] {25, 47, 42, 56, 32};\n",
    "    int[] oddNumber = new int[5];\n",
    "    int[] evenNumber = new int[5];\n",
    "\n",
    "    int oddCount = 0;\n",
    "    int evenCount = 0;\n",
    "\n",
    "    foreach (var number in elements) \n",
    "    {\n",
    "        if (number % 2 == 0) {\n",
    "            evenNumber[evenCount] = number;\n",
    "            evenCount++;\n",
    "        } else {\n",
    "            oddNumber[oddCount] = number;\n",
    "            oddCount++;\n",
    "        }\n",
    "    }\n",
    "    Console.WriteLine(\"Even Numbers:\");\n",
    "    for (int i = 0; i < evenCount; i++)\n",
    "    {\n",
    "        Console.Write(evenNumber[i] + \" \");\n",
    "    }\n",
    "\n",
    "    Console.WriteLine(\"\\n\\nOdd Numbers:\");\n",
    "    for (int i = 0; i < oddCount; i++)\n",
    "    {\n",
    "        Console.Write(oddNumber[i] + \" \");\n",
    "    }\n",
    "}\n",
    "\n",
    "Separate_Odd_Even()"
   ]
  },
  {
   "cell_type": "markdown",
   "metadata": {},
   "source": [
    "## Question 5 C#:\n",
    "a. Write a function inside(x,y,x1,y1,x2,y2) that returns True or False \n",
    "depending on whether thepoint(x,y) lies in the rectangle with lower left \n",
    "corner (x1,y1) and upper right corner (x2,y2)."
   ]
  },
  {
   "cell_type": "code",
   "execution_count": 9,
   "metadata": {
    "dotnet_interactive": {
     "language": "csharp"
    },
    "polyglot_notebook": {
     "kernelName": "csharp"
    },
    "vscode": {
     "languageId": "polyglot-notebook"
    }
   },
   "outputs": [
    {
     "name": "stdout",
     "output_type": "stream",
     "text": [
      "True\n",
      "False\n"
     ]
    }
   ],
   "source": [
    "using System;\n",
    "\n",
    "public class Program\n",
    "{\n",
    "    public static bool Inside(double x, double y, double x1, double y1, double x2, double y2)\n",
    "    {\n",
    "        return (x >= x1 && x <= x2 && y >= y1 && y <= y2);\n",
    "    }\n",
    "\n",
    "    public static void Main()\n",
    "    {\n",
    "        Console.WriteLine(Inside(1, 1, 0, 0, 2, 3)); \n",
    "        Console.WriteLine(Inside(-1, -1, 0, 0, 2, 3)); \n",
    "    }\n",
    "}\n",
    "Program.Main()"
   ]
  },
  {
   "cell_type": "markdown",
   "metadata": {},
   "source": [
    "b. Use function inside() from part a. to write an expression that tests whether \n",
    "the point (1,1) lies in both of the following rectangles: one with lower left \n",
    "corner (0.3, 0.5) and upper right corner (1.1, 0.7) and the other with lower \n",
    "left corner (0.5, 0.2) and upper right corner (1.1, 2)."
   ]
  },
  {
   "cell_type": "code",
   "execution_count": 13,
   "metadata": {
    "dotnet_interactive": {
     "language": "csharp"
    },
    "polyglot_notebook": {
     "kernelName": "csharp"
    },
    "vscode": {
     "languageId": "polyglot-notebook"
    }
   },
   "outputs": [
    {
     "name": "stdout",
     "output_type": "stream",
     "text": [
      "Point (1, 1) in Rectangle 1: False\n",
      "Point (1, 1) in Rectangle 2: True\n"
     ]
    }
   ],
   "source": [
    "bool inFirstRectangle = Inside(1, 1, 0.3, 0.5, 1.1, 0.7);\n",
    "Console.WriteLine($\"Point (1, 1) in Rectangle 1: {inFirstRectangle}\"); \n",
    "\n",
    "bool inSecondRectangle = Inside(1, 1, 0.5, 0.2, 1.1, 2);\n",
    "Console.WriteLine($\"Point (1, 1) in Rectangle 2: {inSecondRectangle}\"); "
   ]
  }
 ],
 "metadata": {
  "kernelspec": {
   "display_name": ".NET (C#)",
   "language": "C#",
   "name": ".net-csharp"
  },
  "language_info": {
   "name": "python"
  },
  "polyglot_notebook": {
   "kernelInfo": {
    "defaultKernelName": "csharp",
    "items": [
     {
      "aliases": [],
      "name": "csharp"
     }
    ]
   }
  }
 },
 "nbformat": 4,
 "nbformat_minor": 2
}
